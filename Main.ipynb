{
 "cells": [
  {
   "cell_type": "code",
   "execution_count": null,
   "metadata": {},
   "outputs": [],
   "source": [
    "import pandas as pd\n",
    "import sqlalchemy\n",
    "from config import configcovid"
   ]
  },
  {
   "cell_type": "code",
   "execution_count": null,
   "metadata": {},
   "outputs": [],
   "source": [
    "# Download the data from https://covid.ourworldindata.org/ size around 80 MB\n",
    "df = pd.read_csv('https://covid.ourworldindata.org/data/owid-covid-data.csv')\n",
    "\n",
    "# Save to local drive in data folder\n",
    "df.to_csv('data/covid_data.csv')\n",
    "\n",
    "# Read from local drive\n",
    "# df = pd.read_csv('data/covid_data.csv')"
   ]
  },
  {
   "cell_type": "code",
   "execution_count": null,
   "metadata": {},
   "outputs": [],
   "source": [
    "# Define column for each table\n",
    "str_col = configcovid.str_col\n",
    "date_col = configcovid.date_col\n",
    "float_col = configcovid.float_col\n",
    "dimention_col = configcovid.dimention_col\n",
    "covid_col = configcovid.covid_col\n",
    "vaccinated_col = configcovid.vaccinated_col\n",
    "excess_col = configcovid.excess_col\n",
    "\n",
    "# Change column data type\n",
    "df[str_col] = df[str_col].astype('string')\n",
    "df[float_col] = df[float_col].astype('float')\n",
    "for col in date_col:\n",
    "    df[col] = pd.to_datetime(df[col])"
   ]
  },
  {
   "cell_type": "code",
   "execution_count": 4,
   "metadata": {},
   "outputs": [],
   "source": [
    "# Split data into different dataframe \n",
    "df_dimention = df[list(configcovid.dimention_col.keys())].drop_duplicates().reset_index(drop=True)\n",
    "df_covid = df[list(configcovid.covid_col.keys())]\n",
    "df_vaccinated = df[list(configcovid.vaccinated_col.keys())]\n",
    "df_excess = df[list(configcovid.excess_col.keys())].query(\"not(excess_mortality_cumulative_absolute.isnull())\").reset_index(drop=True)"
   ]
  },
  {
   "cell_type": "code",
   "execution_count": 5,
   "metadata": {},
   "outputs": [],
   "source": [
    "def sql_insert(data=pd.DataFrame,name=str,engine=sqlalchemy.engine,schema =str,col_type=dict)->None:\n",
    "    print(f'Inserting data for {name}')\n",
    "    try:\n",
    "        data.to_sql(con=engine,schema=schema,name=name,index=False,if_exists='replace',dtype=col_type)\n",
    "    except Exception as err:\n",
    "        print(f'An error occur {err} table.')\n",
    "\n",
    "    print(f'Finish inserting data')\n",
    "    print('-----------------------')\n",
    "    return None\n",
    "\n",
    "def sql_excute(query=str,engine=sqlalchemy.engine)->None:\n",
    "    print('Executing query command...')\n",
    "    engine.execute(statement=query)\n",
    "    print('Finish Executing')\n",
    "    print('-----------------------')\n",
    "    return None\n",
    "\n",
    "def sql_excute_sp(query=str,session=sqlalchemy.engine.cursor)->None:\n",
    "    print('Executing Store Procedure...')\n",
    "    session.execute(query)\n",
    "    session.commit()\n",
    "    print('Finish Executing')\n",
    "    print('-----------------------')\n",
    "    return None"
   ]
  },
  {
   "cell_type": "code",
   "execution_count": 6,
   "metadata": {},
   "outputs": [
    {
     "name": "stdout",
     "output_type": "stream",
     "text": [
      "Executing query command...\n",
      "Finish Executing\n",
      "-----------------------\n",
      "Inserting data for stg_dimention\n",
      "Finish inserting data\n",
      "-----------------------\n",
      "Inserting data for stg_covid\n",
      "Finish inserting data\n",
      "-----------------------\n",
      "Inserting data for stg_vaccinated\n",
      "Finish inserting data\n",
      "-----------------------\n",
      "Inserting data for stg_excess\n",
      "Finish inserting data\n",
      "-----------------------\n",
      "Executing query command...\n",
      "Finish Executing\n",
      "-----------------------\n",
      "Executing query command...\n",
      "Finish Executing\n",
      "-----------------------\n",
      "Executing query command...\n",
      "Finish Executing\n",
      "-----------------------\n",
      "Executing query command...\n",
      "Finish Executing\n",
      "-----------------------\n",
      "Stg_Covid_insert\n",
      "Executing Store Procedure...\n",
      "Finish Executing\n",
      "-----------------------\n",
      "Stg_Vaccinated_insert\n",
      "Executing Store Procedure...\n",
      "Finish Executing\n",
      "-----------------------\n",
      "Stg_Dimention_insert\n",
      "Executing Store Procedure...\n",
      "Finish Executing\n",
      "-----------------------\n",
      "Stg_Excess_insert\n",
      "Executing Store Procedure...\n",
      "Finish Executing\n",
      "-----------------------\n"
     ]
    }
   ],
   "source": [
    "# Connect to local MS SQL Server with fast excute on\n",
    "eng = sqlalchemy.create_engine(\"mssql://localhost/Covid_Database?driver=ODBC Driver 17 for SQL Server\",fast_executemany=True)\n",
    "schema = 'stg'\n",
    "schema_query = f\"\"\"\n",
    "IF NOT EXISTS (SELECT * FROM sys.schemas WHERE name = '{schema}')\n",
    "BEGIN\n",
    "EXEC('CREATE SCHEMA {schema}')\n",
    "END\"\"\"\n",
    "\n",
    "# Create stg schema if not exist\n",
    "sql_excute(schema_query,eng)\n",
    "\n",
    "# Write data into sql server\n",
    "df_insert = [\n",
    "    (df_dimention,'stg_dimention',dimention_col),\n",
    "    (df_covid,'stg_covid',covid_col),\n",
    "    (df_vaccinated,'stg_vaccinated',vaccinated_col),\n",
    "    (df_excess,'stg_excess',excess_col)\n",
    "    ]\n",
    "for df,name,col_type in df_insert:\n",
    "    sql_insert(data=df,name=name,engine=eng,schema=schema,col_type=col_type)\n",
    "\n",
    "# Create insert sp\n",
    "for sp in configcovid.sp_list:\n",
    "    sql_excute(query=sp,engine=eng)\n",
    "\n",
    "# Excute the sp to insert the data if first time will create table if not will insert date more than the current data\n",
    "session = eng.raw_connection().cursor()\n",
    "for sp in configcovid.sp_excute_list:\n",
    "    query = f'exec [dbo].[{sp}]'\n",
    "    print(sp)\n",
    "    sql_excute_sp(query=query,session=session)\n",
    "session.close()"
   ]
  },
  {
   "cell_type": "code",
   "execution_count": null,
   "metadata": {},
   "outputs": [],
   "source": []
  }
 ],
 "metadata": {
  "kernelspec": {
   "display_name": "Python 3.9.7 64-bit",
   "language": "python",
   "name": "python3"
  },
  "language_info": {
   "codemirror_mode": {
    "name": "ipython",
    "version": 3
   },
   "file_extension": ".py",
   "mimetype": "text/x-python",
   "name": "python",
   "nbconvert_exporter": "python",
   "pygments_lexer": "ipython3",
   "version": "3.9.7"
  },
  "orig_nbformat": 4,
  "vscode": {
   "interpreter": {
    "hash": "601b049b69c015f341cf049bdfa863242bcd463fff4e9ea5ae96948b9f5d87db"
   }
  }
 },
 "nbformat": 4,
 "nbformat_minor": 2
}
